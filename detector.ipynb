{
 "cells": [
  {
   "cell_type": "code",
   "execution_count": 1,
   "metadata": {},
   "outputs": [],
   "source": [
    "from pix2text import Pix2Text\n",
    "from text_recognizer import TextRecognizerRus\n",
    "from PIL import Image"
   ]
  },
  {
   "cell_type": "code",
   "execution_count": 2,
   "metadata": {},
   "outputs": [],
   "source": [
    "img_fp = 'data/image.png'\n",
    "image = Image.open(img_fp)\n"
   ]
  },
  {
   "cell_type": "code",
   "execution_count": 3,
   "metadata": {},
   "outputs": [],
   "source": [
    "p2t = Pix2Text(analyzer_config=dict(model_name='mfd'))\n",
    "text_rec = TextRecognizerRus()"
   ]
  },
  {
   "cell_type": "code",
   "execution_count": 4,
   "metadata": {},
   "outputs": [
    {
     "name": "stderr",
     "output_type": "stream",
     "text": [
      "[WARNING 2024-03-20 00:31:27,477 _showwarnmsg:109] /home/vlad/park/LatexOCR/venv/lib/python3.11/site-packages/torch/functional.py:507: UserWarning: torch.meshgrid: in an upcoming release, it will be required to pass the indexing argument. (Triggered internally at ../aten/src/ATen/native/TensorShape.cpp:3549.)\n",
      "  return _VF.meshgrid(tensors, **kwargs)  # type: ignore[attr-defined]\n",
      " \n"
     ]
    },
    {
     "name": "stdout",
     "output_type": "stream",
     "text": [
      "WARNING: --img-size 391 must be multiple of max stride 32, updating to 416\n"
     ]
    },
    {
     "name": "stderr",
     "output_type": "stream",
     "text": [
      "100%|██████████| 11/11 [00:05<00:00,  1.89it/s]\n"
     ]
    }
   ],
   "source": [
    "outs = p2t.recognize(img_fp, resized_shape=608, return_text=False)"
   ]
  },
  {
   "cell_type": "code",
   "execution_count": 5,
   "metadata": {},
   "outputs": [
    {
     "name": "stdout",
     "output_type": "stream",
     "text": [
      "Тогда решение для\n",
      "`$$x_{i-1}$$`\n",
      "может быть выражено через\n",
      "`$$x_{i}$$`\n",
      "\n",
      "```KaTeX\n",
      "x_{i-1}=\\frac{\\tilde{b}_{i-1}-\\tilde{a}_{i-1, i} x_{i}} {\\tilde{a}_{i-1, i-1}}\n",
      "```\n",
      "Можно представить эту запись в упрощенном виде:\n",
      "```KaTeX\n",
      "x_{i-1}=\\gamma_{i} x_{i}+\\beta_{i},\n",
      "```\n",
      "где для коэффициентов\n",
      "`$$\\gamma$$`\n",
      "\n",
      "`$$\\beta$$`\n",
      "существует следующие рекуррентные соотношения:\n",
      "```KaTeX\n",
      "\\gamma_{i+1}=\\frac{-a_{i, i+1}} {a_{i, i-1} \\gamma_{i}+a_{i i}}, \\tag{3}\n",
      "```\n",
      "```KaTeX\n",
      "\\beta_{i+1}=\\frac{b_{i}-a_{i, i-1} \\beta_{i}} {a_{i, i-1} \\gamma_{i}+a_{i i}}. \\tag{4}\n",
      "```\n",
      "Начальные коэффициенты\n",
      "`$$\\gamma_{1}$$`\n",
      "\n",
      "`$$\\beta_{1}$$`\n",
      "выражаются из первого уравнения СЛАУ (2):\n",
      "```KaTeX\n",
      "\\begin{aligned} {\\gamma_{1}} & {{}=\\frac{-a_{1 2}} {a_{1 1}},} \\\\ {\\beta_{1}} & {{}=\\frac{b_{1}} {a_{1 1}}.} \\\\ \\end{aligned}\n",
      "```\n"
     ]
    }
   ],
   "source": [
    "line_number = 0\n",
    "markdown = ''\n",
    "for element in outs:\n",
    "    text = element['text']\n",
    "    if element['type'] == 'text':\n",
    "        top_left = element['position'][0]\n",
    "        bottom_right = element['position'][2]\n",
    "        coords = tuple(list(top_left) + list(bottom_right))\n",
    "        cropped = image.crop(coords)\n",
    "        cropped.save('cropped.png')\n",
    "        text = text_rec.recognize('cropped.png').strip()\n",
    "    \n",
    "    if element['type'] == 'embedding':\n",
    "        text = '\\n`$$' + text + '$$`\\n'\n",
    "    if element['type'] == 'isolated':\n",
    "        text = '```KaTeX\\n' + text + '\\n```' \n",
    "\n",
    "    if element['line_number'] == line_number:\n",
    "        markdown += text\n",
    "    else:\n",
    "        markdown += '\\n' + text\n",
    "        line_number = element['line_number']\n",
    "print(markdown)"
   ]
  }
 ],
 "metadata": {
  "kernelspec": {
   "display_name": ".venv",
   "language": "python",
   "name": "python3"
  },
  "language_info": {
   "codemirror_mode": {
    "name": "ipython",
    "version": 3
   },
   "file_extension": ".py",
   "mimetype": "text/x-python",
   "name": "python",
   "nbconvert_exporter": "python",
   "pygments_lexer": "ipython3",
   "version": "3.11.4"
  },
  "orig_nbformat": 4
 },
 "nbformat": 4,
 "nbformat_minor": 2
}
